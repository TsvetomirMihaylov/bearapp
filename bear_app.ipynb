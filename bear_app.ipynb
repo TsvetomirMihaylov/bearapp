{
  "nbformat": 4,
  "nbformat_minor": 0,
  "metadata": {
    "colab": {
      "provenance": []
    },
    "kernelspec": {
      "name": "python3",
      "display_name": "Python 3"
    },
    "language_info": {
      "name": "python"
    },
    "widgets": {
      "application/vnd.jupyter.widget-state+json": {
        "3c0b2476bf5d4dea9dcb9ec1d7907bbf": {
          "model_module": "@jupyter-widgets/controls",
          "model_name": "FileUploadModel",
          "model_module_version": "1.5.0",
          "state": {
            "_counter": 1,
            "_dom_classes": [],
            "_model_module": "@jupyter-widgets/controls",
            "_model_module_version": "1.5.0",
            "_model_name": "FileUploadModel",
            "_view_count": null,
            "_view_module": "@jupyter-widgets/controls",
            "_view_module_version": "1.5.0",
            "_view_name": "FileUploadView",
            "accept": "",
            "button_style": "",
            "data": [
              null
            ],
            "description": "Upload",
            "description_tooltip": null,
            "disabled": false,
            "error": "",
            "icon": "upload",
            "layout": "IPY_MODEL_914037334ef544958f78754c5bd3bdc7",
            "metadata": [
              {
                "name": "grizzly.jpg",
                "type": "image/jpeg",
                "size": 12799,
                "lastModified": 1730311481316
              }
            ],
            "multiple": false,
            "style": "IPY_MODEL_1aa3b76fa7fe4375b45ed2805a8831b1"
          }
        },
        "914037334ef544958f78754c5bd3bdc7": {
          "model_module": "@jupyter-widgets/base",
          "model_name": "LayoutModel",
          "model_module_version": "1.2.0",
          "state": {
            "_model_module": "@jupyter-widgets/base",
            "_model_module_version": "1.2.0",
            "_model_name": "LayoutModel",
            "_view_count": null,
            "_view_module": "@jupyter-widgets/base",
            "_view_module_version": "1.2.0",
            "_view_name": "LayoutView",
            "align_content": null,
            "align_items": null,
            "align_self": null,
            "border": null,
            "bottom": null,
            "display": null,
            "flex": null,
            "flex_flow": null,
            "grid_area": null,
            "grid_auto_columns": null,
            "grid_auto_flow": null,
            "grid_auto_rows": null,
            "grid_column": null,
            "grid_gap": null,
            "grid_row": null,
            "grid_template_areas": null,
            "grid_template_columns": null,
            "grid_template_rows": null,
            "height": null,
            "justify_content": null,
            "justify_items": null,
            "left": null,
            "margin": null,
            "max_height": null,
            "max_width": null,
            "min_height": null,
            "min_width": null,
            "object_fit": null,
            "object_position": null,
            "order": null,
            "overflow": null,
            "overflow_x": null,
            "overflow_y": null,
            "padding": null,
            "right": null,
            "top": null,
            "visibility": null,
            "width": null
          }
        },
        "1aa3b76fa7fe4375b45ed2805a8831b1": {
          "model_module": "@jupyter-widgets/controls",
          "model_name": "ButtonStyleModel",
          "model_module_version": "1.5.0",
          "state": {
            "_model_module": "@jupyter-widgets/controls",
            "_model_module_version": "1.5.0",
            "_model_name": "ButtonStyleModel",
            "_view_count": null,
            "_view_module": "@jupyter-widgets/base",
            "_view_module_version": "1.2.0",
            "_view_name": "StyleView",
            "button_color": null,
            "font_weight": ""
          }
        },
        "c468fbb7586f45c2a96a594bac6e199d": {
          "model_module": "@jupyter-widgets/controls",
          "model_name": "ButtonModel",
          "model_module_version": "1.5.0",
          "state": {
            "_dom_classes": [],
            "_model_module": "@jupyter-widgets/controls",
            "_model_module_version": "1.5.0",
            "_model_name": "ButtonModel",
            "_view_count": null,
            "_view_module": "@jupyter-widgets/controls",
            "_view_module_version": "1.5.0",
            "_view_name": "ButtonView",
            "button_style": "",
            "description": "Classify",
            "disabled": false,
            "icon": "",
            "layout": "IPY_MODEL_bef8ed058d744e02836a613c53c79c0f",
            "style": "IPY_MODEL_11f805e1f50c483e8bda9672f58e6c0b",
            "tooltip": ""
          }
        },
        "bef8ed058d744e02836a613c53c79c0f": {
          "model_module": "@jupyter-widgets/base",
          "model_name": "LayoutModel",
          "model_module_version": "1.2.0",
          "state": {
            "_model_module": "@jupyter-widgets/base",
            "_model_module_version": "1.2.0",
            "_model_name": "LayoutModel",
            "_view_count": null,
            "_view_module": "@jupyter-widgets/base",
            "_view_module_version": "1.2.0",
            "_view_name": "LayoutView",
            "align_content": null,
            "align_items": null,
            "align_self": null,
            "border": null,
            "bottom": null,
            "display": null,
            "flex": null,
            "flex_flow": null,
            "grid_area": null,
            "grid_auto_columns": null,
            "grid_auto_flow": null,
            "grid_auto_rows": null,
            "grid_column": null,
            "grid_gap": null,
            "grid_row": null,
            "grid_template_areas": null,
            "grid_template_columns": null,
            "grid_template_rows": null,
            "height": null,
            "justify_content": null,
            "justify_items": null,
            "left": null,
            "margin": null,
            "max_height": null,
            "max_width": null,
            "min_height": null,
            "min_width": null,
            "object_fit": null,
            "object_position": null,
            "order": null,
            "overflow": null,
            "overflow_x": null,
            "overflow_y": null,
            "padding": null,
            "right": null,
            "top": null,
            "visibility": null,
            "width": null
          }
        },
        "11f805e1f50c483e8bda9672f58e6c0b": {
          "model_module": "@jupyter-widgets/controls",
          "model_name": "ButtonStyleModel",
          "model_module_version": "1.5.0",
          "state": {
            "_model_module": "@jupyter-widgets/controls",
            "_model_module_version": "1.5.0",
            "_model_name": "ButtonStyleModel",
            "_view_count": null,
            "_view_module": "@jupyter-widgets/base",
            "_view_module_version": "1.2.0",
            "_view_name": "StyleView",
            "button_color": null,
            "font_weight": ""
          }
        },
        "dfc45cf3d13b4f8184e05bee03897124": {
          "model_module": "@jupyter-widgets/controls",
          "model_name": "VBoxModel",
          "model_module_version": "1.5.0",
          "state": {
            "_dom_classes": [],
            "_model_module": "@jupyter-widgets/controls",
            "_model_module_version": "1.5.0",
            "_model_name": "VBoxModel",
            "_view_count": null,
            "_view_module": "@jupyter-widgets/controls",
            "_view_module_version": "1.5.0",
            "_view_name": "VBoxView",
            "box_style": "",
            "children": [
              "IPY_MODEL_b3a5d08f7f6e4886aae1b722809addda",
              "IPY_MODEL_e2b1748d357343c1a9e40f1268d028e9",
              "IPY_MODEL_c468fbb7586f45c2a96a594bac6e199d",
              "IPY_MODEL_2a955778dc9d423abcc5d4e533f5fceb",
              "IPY_MODEL_397494fc6dd141eab08a3d60d822cf62"
            ],
            "layout": "IPY_MODEL_d77c7874d079432e86dc3c5daf1f0ba2"
          }
        },
        "b3a5d08f7f6e4886aae1b722809addda": {
          "model_module": "@jupyter-widgets/controls",
          "model_name": "LabelModel",
          "model_module_version": "1.5.0",
          "state": {
            "_dom_classes": [],
            "_model_module": "@jupyter-widgets/controls",
            "_model_module_version": "1.5.0",
            "_model_name": "LabelModel",
            "_view_count": null,
            "_view_module": "@jupyter-widgets/controls",
            "_view_module_version": "1.5.0",
            "_view_name": "LabelView",
            "description": "",
            "description_tooltip": null,
            "layout": "IPY_MODEL_4474bb9c7df745078c9cbec0e527275b",
            "placeholder": "​",
            "style": "IPY_MODEL_e2916f59b85a4ef7945180a38f802929",
            "value": "Select your bear!"
          }
        },
        "e2b1748d357343c1a9e40f1268d028e9": {
          "model_module": "@jupyter-widgets/controls",
          "model_name": "FileUploadModel",
          "model_module_version": "1.5.0",
          "state": {
            "_counter": 1,
            "_dom_classes": [],
            "_model_module": "@jupyter-widgets/controls",
            "_model_module_version": "1.5.0",
            "_model_name": "FileUploadModel",
            "_view_count": null,
            "_view_module": "@jupyter-widgets/controls",
            "_view_module_version": "1.5.0",
            "_view_name": "FileUploadView",
            "accept": "",
            "button_style": "",
            "data": [
              null
            ],
            "description": "Upload",
            "description_tooltip": null,
            "disabled": false,
            "error": "",
            "icon": "upload",
            "layout": "IPY_MODEL_0cef69c25e244408aee5d9637fa18fe0",
            "metadata": [
              {
                "name": "Untitled.jpg",
                "type": "image/jpeg",
                "size": 6098,
                "lastModified": 1730311613675
              }
            ],
            "multiple": false,
            "style": "IPY_MODEL_d090813990f3493ab76dc5bd0c024d90"
          }
        },
        "2a955778dc9d423abcc5d4e533f5fceb": {
          "model_module": "@jupyter-widgets/output",
          "model_name": "OutputModel",
          "model_module_version": "1.0.0",
          "state": {
            "_dom_classes": [],
            "_model_module": "@jupyter-widgets/output",
            "_model_module_version": "1.0.0",
            "_model_name": "OutputModel",
            "_view_count": null,
            "_view_module": "@jupyter-widgets/output",
            "_view_module_version": "1.0.0",
            "_view_name": "OutputView",
            "layout": "IPY_MODEL_e0d4e172b7c542279a46013c118206ff",
            "msg_id": "",
            "outputs": [
              {
                "output_type": "display_data",
                "data": {
                  "text/plain": "<PIL.Image.Image image mode=RGB size=128x128>",
                  "image/png": "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\n",
                  "image/jpeg": "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\n"
                },
                "metadata": {}
              }
            ]
          }
        },
        "397494fc6dd141eab08a3d60d822cf62": {
          "model_module": "@jupyter-widgets/controls",
          "model_name": "LabelModel",
          "model_module_version": "1.5.0",
          "state": {
            "_dom_classes": [],
            "_model_module": "@jupyter-widgets/controls",
            "_model_module_version": "1.5.0",
            "_model_name": "LabelModel",
            "_view_count": null,
            "_view_module": "@jupyter-widgets/controls",
            "_view_module_version": "1.5.0",
            "_view_name": "LabelView",
            "description": "",
            "description_tooltip": null,
            "layout": "IPY_MODEL_f0d22fea525d42b486f2b480cfe459c4",
            "placeholder": "​",
            "style": "IPY_MODEL_78b96488f52447ed9084caedaae97313",
            "value": "Prediction: teddy; Probability: 1.0000"
          }
        },
        "d77c7874d079432e86dc3c5daf1f0ba2": {
          "model_module": "@jupyter-widgets/base",
          "model_name": "LayoutModel",
          "model_module_version": "1.2.0",
          "state": {
            "_model_module": "@jupyter-widgets/base",
            "_model_module_version": "1.2.0",
            "_model_name": "LayoutModel",
            "_view_count": null,
            "_view_module": "@jupyter-widgets/base",
            "_view_module_version": "1.2.0",
            "_view_name": "LayoutView",
            "align_content": null,
            "align_items": null,
            "align_self": null,
            "border": null,
            "bottom": null,
            "display": null,
            "flex": null,
            "flex_flow": null,
            "grid_area": null,
            "grid_auto_columns": null,
            "grid_auto_flow": null,
            "grid_auto_rows": null,
            "grid_column": null,
            "grid_gap": null,
            "grid_row": null,
            "grid_template_areas": null,
            "grid_template_columns": null,
            "grid_template_rows": null,
            "height": null,
            "justify_content": null,
            "justify_items": null,
            "left": null,
            "margin": null,
            "max_height": null,
            "max_width": null,
            "min_height": null,
            "min_width": null,
            "object_fit": null,
            "object_position": null,
            "order": null,
            "overflow": null,
            "overflow_x": null,
            "overflow_y": null,
            "padding": null,
            "right": null,
            "top": null,
            "visibility": null,
            "width": null
          }
        },
        "4474bb9c7df745078c9cbec0e527275b": {
          "model_module": "@jupyter-widgets/base",
          "model_name": "LayoutModel",
          "model_module_version": "1.2.0",
          "state": {
            "_model_module": "@jupyter-widgets/base",
            "_model_module_version": "1.2.0",
            "_model_name": "LayoutModel",
            "_view_count": null,
            "_view_module": "@jupyter-widgets/base",
            "_view_module_version": "1.2.0",
            "_view_name": "LayoutView",
            "align_content": null,
            "align_items": null,
            "align_self": null,
            "border": null,
            "bottom": null,
            "display": null,
            "flex": null,
            "flex_flow": null,
            "grid_area": null,
            "grid_auto_columns": null,
            "grid_auto_flow": null,
            "grid_auto_rows": null,
            "grid_column": null,
            "grid_gap": null,
            "grid_row": null,
            "grid_template_areas": null,
            "grid_template_columns": null,
            "grid_template_rows": null,
            "height": null,
            "justify_content": null,
            "justify_items": null,
            "left": null,
            "margin": null,
            "max_height": null,
            "max_width": null,
            "min_height": null,
            "min_width": null,
            "object_fit": null,
            "object_position": null,
            "order": null,
            "overflow": null,
            "overflow_x": null,
            "overflow_y": null,
            "padding": null,
            "right": null,
            "top": null,
            "visibility": null,
            "width": null
          }
        },
        "e2916f59b85a4ef7945180a38f802929": {
          "model_module": "@jupyter-widgets/controls",
          "model_name": "DescriptionStyleModel",
          "model_module_version": "1.5.0",
          "state": {
            "_model_module": "@jupyter-widgets/controls",
            "_model_module_version": "1.5.0",
            "_model_name": "DescriptionStyleModel",
            "_view_count": null,
            "_view_module": "@jupyter-widgets/base",
            "_view_module_version": "1.2.0",
            "_view_name": "StyleView",
            "description_width": ""
          }
        },
        "0cef69c25e244408aee5d9637fa18fe0": {
          "model_module": "@jupyter-widgets/base",
          "model_name": "LayoutModel",
          "model_module_version": "1.2.0",
          "state": {
            "_model_module": "@jupyter-widgets/base",
            "_model_module_version": "1.2.0",
            "_model_name": "LayoutModel",
            "_view_count": null,
            "_view_module": "@jupyter-widgets/base",
            "_view_module_version": "1.2.0",
            "_view_name": "LayoutView",
            "align_content": null,
            "align_items": null,
            "align_self": null,
            "border": null,
            "bottom": null,
            "display": null,
            "flex": null,
            "flex_flow": null,
            "grid_area": null,
            "grid_auto_columns": null,
            "grid_auto_flow": null,
            "grid_auto_rows": null,
            "grid_column": null,
            "grid_gap": null,
            "grid_row": null,
            "grid_template_areas": null,
            "grid_template_columns": null,
            "grid_template_rows": null,
            "height": null,
            "justify_content": null,
            "justify_items": null,
            "left": null,
            "margin": null,
            "max_height": null,
            "max_width": null,
            "min_height": null,
            "min_width": null,
            "object_fit": null,
            "object_position": null,
            "order": null,
            "overflow": null,
            "overflow_x": null,
            "overflow_y": null,
            "padding": null,
            "right": null,
            "top": null,
            "visibility": null,
            "width": null
          }
        },
        "d090813990f3493ab76dc5bd0c024d90": {
          "model_module": "@jupyter-widgets/controls",
          "model_name": "ButtonStyleModel",
          "model_module_version": "1.5.0",
          "state": {
            "_model_module": "@jupyter-widgets/controls",
            "_model_module_version": "1.5.0",
            "_model_name": "ButtonStyleModel",
            "_view_count": null,
            "_view_module": "@jupyter-widgets/base",
            "_view_module_version": "1.2.0",
            "_view_name": "StyleView",
            "button_color": null,
            "font_weight": ""
          }
        },
        "f0d22fea525d42b486f2b480cfe459c4": {
          "model_module": "@jupyter-widgets/base",
          "model_name": "LayoutModel",
          "model_module_version": "1.2.0",
          "state": {
            "_model_module": "@jupyter-widgets/base",
            "_model_module_version": "1.2.0",
            "_model_name": "LayoutModel",
            "_view_count": null,
            "_view_module": "@jupyter-widgets/base",
            "_view_module_version": "1.2.0",
            "_view_name": "LayoutView",
            "align_content": null,
            "align_items": null,
            "align_self": null,
            "border": null,
            "bottom": null,
            "display": null,
            "flex": null,
            "flex_flow": null,
            "grid_area": null,
            "grid_auto_columns": null,
            "grid_auto_flow": null,
            "grid_auto_rows": null,
            "grid_column": null,
            "grid_gap": null,
            "grid_row": null,
            "grid_template_areas": null,
            "grid_template_columns": null,
            "grid_template_rows": null,
            "height": null,
            "justify_content": null,
            "justify_items": null,
            "left": null,
            "margin": null,
            "max_height": null,
            "max_width": null,
            "min_height": null,
            "min_width": null,
            "object_fit": null,
            "object_position": null,
            "order": null,
            "overflow": null,
            "overflow_x": null,
            "overflow_y": null,
            "padding": null,
            "right": null,
            "top": null,
            "visibility": null,
            "width": null
          }
        },
        "78b96488f52447ed9084caedaae97313": {
          "model_module": "@jupyter-widgets/controls",
          "model_name": "DescriptionStyleModel",
          "model_module_version": "1.5.0",
          "state": {
            "_model_module": "@jupyter-widgets/controls",
            "_model_module_version": "1.5.0",
            "_model_name": "DescriptionStyleModel",
            "_view_count": null,
            "_view_module": "@jupyter-widgets/base",
            "_view_module_version": "1.2.0",
            "_view_name": "StyleView",
            "description_width": ""
          }
        },
        "e0d4e172b7c542279a46013c118206ff": {
          "model_module": "@jupyter-widgets/base",
          "model_name": "LayoutModel",
          "model_module_version": "1.2.0",
          "state": {
            "_model_module": "@jupyter-widgets/base",
            "_model_module_version": "1.2.0",
            "_model_name": "LayoutModel",
            "_view_count": null,
            "_view_module": "@jupyter-widgets/base",
            "_view_module_version": "1.2.0",
            "_view_name": "LayoutView",
            "align_content": null,
            "align_items": null,
            "align_self": null,
            "border": null,
            "bottom": null,
            "display": null,
            "flex": null,
            "flex_flow": null,
            "grid_area": null,
            "grid_auto_columns": null,
            "grid_auto_flow": null,
            "grid_auto_rows": null,
            "grid_column": null,
            "grid_gap": null,
            "grid_row": null,
            "grid_template_areas": null,
            "grid_template_columns": null,
            "grid_template_rows": null,
            "height": null,
            "justify_content": null,
            "justify_items": null,
            "left": null,
            "margin": null,
            "max_height": null,
            "max_width": null,
            "min_height": null,
            "min_width": null,
            "object_fit": null,
            "object_position": null,
            "order": null,
            "overflow": null,
            "overflow_x": null,
            "overflow_y": null,
            "padding": null,
            "right": null,
            "top": null,
            "visibility": null,
            "width": null
          }
        }
      }
    }
  },
  "cells": [
    {
      "cell_type": "code",
      "source": [
        "#hide\n",
        "! [ -e /content ] && pip install -Uqq fastbook\n",
        "import fastbook\n",
        "fastbook.setup_book()"
      ],
      "metadata": {
        "colab": {
          "base_uri": "https://localhost:8080/"
        },
        "id": "d0mA8HiKpCZm",
        "outputId": "1e5320e3-607d-4428-9df4-8d2568bac74f"
      },
      "execution_count": 3,
      "outputs": [
        {
          "output_type": "stream",
          "name": "stdout",
          "text": [
            "\u001b[?25l   \u001b[90m━━━━━━━━━━━━━━━━━━━━━━━━━━━━━━━━━━━━━━━━\u001b[0m \u001b[32m0.0/719.8 kB\u001b[0m \u001b[31m?\u001b[0m eta \u001b[36m-:--:--\u001b[0m\r\u001b[2K   \u001b[91m━━━━━━━━━━━━━━━━━━━━━━━━━━━━━\u001b[0m\u001b[90m╺\u001b[0m\u001b[90m━━━━━━━━━━\u001b[0m \u001b[32m522.2/719.8 kB\u001b[0m \u001b[31m15.5 MB/s\u001b[0m eta \u001b[36m0:00:01\u001b[0m\r\u001b[2K   \u001b[90m━━━━━━━━━━━━━━━━━━━━━━━━━━━━━━━━━━━━━━━━\u001b[0m \u001b[32m719.8/719.8 kB\u001b[0m \u001b[31m11.3 MB/s\u001b[0m eta \u001b[36m0:00:00\u001b[0m\n",
            "\u001b[?25h\u001b[?25l   \u001b[90m━━━━━━━━━━━━━━━━━━━━━━━━━━━━━━━━━━━━━━━━\u001b[0m \u001b[32m0.0/472.7 kB\u001b[0m \u001b[31m?\u001b[0m eta \u001b[36m-:--:--\u001b[0m\r\u001b[2K   \u001b[90m━━━━━━━━━━━━━━━━━━━━━━━━━━━━━━━━━━━━━━━━\u001b[0m \u001b[32m472.7/472.7 kB\u001b[0m \u001b[31m20.9 MB/s\u001b[0m eta \u001b[36m0:00:00\u001b[0m\n",
            "\u001b[2K   \u001b[90m━━━━━━━━━━━━━━━━━━━━━━━━━━━━━━━━━━━━━━━━\u001b[0m \u001b[32m116.3/116.3 kB\u001b[0m \u001b[31m6.4 MB/s\u001b[0m eta \u001b[36m0:00:00\u001b[0m\n",
            "\u001b[2K   \u001b[90m━━━━━━━━━━━━━━━━━━━━━━━━━━━━━━━━━━━━━━━━\u001b[0m \u001b[32m134.8/134.8 kB\u001b[0m \u001b[31m7.6 MB/s\u001b[0m eta \u001b[36m0:00:00\u001b[0m\n",
            "\u001b[2K   \u001b[90m━━━━━━━━━━━━━━━━━━━━━━━━━━━━━━━━━━━━━━━━\u001b[0m \u001b[32m194.1/194.1 kB\u001b[0m \u001b[31m9.4 MB/s\u001b[0m eta \u001b[36m0:00:00\u001b[0m\n",
            "\u001b[2K   \u001b[90m━━━━━━━━━━━━━━━━━━━━━━━━━━━━━━━━━━━━━━━━\u001b[0m \u001b[32m1.6/1.6 MB\u001b[0m \u001b[31m39.2 MB/s\u001b[0m eta \u001b[36m0:00:00\u001b[0m\n",
            "\u001b[2K   \u001b[90m━━━━━━━━━━━━━━━━━━━━━━━━━━━━━━━━━━━━━━━━\u001b[0m \u001b[32m133.5/133.5 kB\u001b[0m \u001b[31m8.3 MB/s\u001b[0m eta \u001b[36m0:00:00\u001b[0m\n",
            "\u001b[?25hMounted at /content/gdrive\n"
          ]
        }
      ]
    },
    {
      "cell_type": "code",
      "source": [
        "#hide\n",
        "from fastbook import *\n",
        "from fastai.vision.widgets import *"
      ],
      "metadata": {
        "id": "eLQZ06ZdpCzQ"
      },
      "execution_count": 4,
      "outputs": []
    },
    {
      "cell_type": "code",
      "source": [
        "!pip install duckduckgo-search\n"
      ],
      "metadata": {
        "colab": {
          "base_uri": "https://localhost:8080/"
        },
        "id": "8G481ZUYpZbN",
        "outputId": "16d0df9d-74ae-4b06-bcfd-d3ea55c18122"
      },
      "execution_count": 6,
      "outputs": [
        {
          "output_type": "stream",
          "name": "stdout",
          "text": [
            "Collecting duckduckgo-search\n",
            "  Downloading duckduckgo_search-6.3.3-py3-none-any.whl.metadata (25 kB)\n",
            "Requirement already satisfied: click>=8.1.7 in /usr/local/lib/python3.10/dist-packages (from duckduckgo-search) (8.1.7)\n",
            "Collecting primp>=0.6.5 (from duckduckgo-search)\n",
            "  Downloading primp-0.6.5-cp38-abi3-manylinux_2_17_x86_64.manylinux2014_x86_64.whl.metadata (10 kB)\n",
            "Downloading duckduckgo_search-6.3.3-py3-none-any.whl (27 kB)\n",
            "Downloading primp-0.6.5-cp38-abi3-manylinux_2_17_x86_64.manylinux2014_x86_64.whl (3.0 MB)\n",
            "\u001b[2K   \u001b[90m━━━━━━━━━━━━━━━━━━━━━━━━━━━━━━━━━━━━━━━━\u001b[0m \u001b[32m3.0/3.0 MB\u001b[0m \u001b[31m28.6 MB/s\u001b[0m eta \u001b[36m0:00:00\u001b[0m\n",
            "\u001b[?25hInstalling collected packages: primp, duckduckgo-search\n",
            "Successfully installed duckduckgo-search-6.3.3 primp-0.6.5\n"
          ]
        }
      ]
    },
    {
      "cell_type": "code",
      "source": [
        "from duckduckgo_search import DDGS #DuckDuckGo has changed the api so we need to update\n",
        "from fastcore.all import *\n",
        "\n",
        "def search_images(keywords, max_images=200): return L(DDGS().images(keywords, max_results=max_images)).itemgot('image')\n",
        "import time, json"
      ],
      "metadata": {
        "id": "OTrzSnLDpC2G"
      },
      "execution_count": 7,
      "outputs": []
    },
    {
      "cell_type": "code",
      "execution_count": 1,
      "metadata": {
        "colab": {
          "base_uri": "https://localhost:8080/"
        },
        "collapsed": true,
        "id": "JLUnwa_SnWgF",
        "outputId": "a52dc377-7348-493b-d31d-425e15585594"
      },
      "outputs": [
        {
          "output_type": "stream",
          "name": "stdout",
          "text": [
            "Collecting voila\n",
            "  Downloading voila-0.5.8-py3-none-any.whl.metadata (9.5 kB)\n",
            "Collecting jupyter-client<9,>=7.4.4 (from voila)\n",
            "  Downloading jupyter_client-8.6.3-py3-none-any.whl.metadata (8.3 kB)\n",
            "Requirement already satisfied: jupyter-core>=4.11.0 in /usr/local/lib/python3.10/dist-packages (from voila) (5.7.2)\n",
            "Requirement already satisfied: jupyter-server<3,>=1.18 in /usr/local/lib/python3.10/dist-packages (from voila) (1.24.0)\n",
            "Collecting jupyterlab-server<3,>=2.3.0 (from voila)\n",
            "  Downloading jupyterlab_server-2.27.3-py3-none-any.whl.metadata (5.9 kB)\n",
            "Requirement already satisfied: nbclient>=0.4.0 in /usr/local/lib/python3.10/dist-packages (from voila) (0.10.0)\n",
            "Requirement already satisfied: nbconvert<8,>=6.4.5 in /usr/local/lib/python3.10/dist-packages (from voila) (6.5.4)\n",
            "Requirement already satisfied: traitlets<6,>=5.0.3 in /usr/local/lib/python3.10/dist-packages (from voila) (5.7.1)\n",
            "Collecting websockets>=9.0 (from voila)\n",
            "  Downloading websockets-13.1-cp310-cp310-manylinux_2_5_x86_64.manylinux1_x86_64.manylinux_2_17_x86_64.manylinux2014_x86_64.whl.metadata (6.8 kB)\n",
            "Requirement already satisfied: python-dateutil>=2.8.2 in /usr/local/lib/python3.10/dist-packages (from jupyter-client<9,>=7.4.4->voila) (2.8.2)\n",
            "Requirement already satisfied: pyzmq>=23.0 in /usr/local/lib/python3.10/dist-packages (from jupyter-client<9,>=7.4.4->voila) (24.0.1)\n",
            "Requirement already satisfied: tornado>=6.2 in /usr/local/lib/python3.10/dist-packages (from jupyter-client<9,>=7.4.4->voila) (6.3.3)\n",
            "Requirement already satisfied: platformdirs>=2.5 in /usr/local/lib/python3.10/dist-packages (from jupyter-core>=4.11.0->voila) (4.3.6)\n",
            "Requirement already satisfied: anyio<4,>=3.1.0 in /usr/local/lib/python3.10/dist-packages (from jupyter-server<3,>=1.18->voila) (3.7.1)\n",
            "Requirement already satisfied: argon2-cffi in /usr/local/lib/python3.10/dist-packages (from jupyter-server<3,>=1.18->voila) (23.1.0)\n",
            "Requirement already satisfied: jinja2 in /usr/local/lib/python3.10/dist-packages (from jupyter-server<3,>=1.18->voila) (3.1.4)\n",
            "Requirement already satisfied: nbformat>=5.2.0 in /usr/local/lib/python3.10/dist-packages (from jupyter-server<3,>=1.18->voila) (5.10.4)\n",
            "Requirement already satisfied: packaging in /usr/local/lib/python3.10/dist-packages (from jupyter-server<3,>=1.18->voila) (24.1)\n",
            "Requirement already satisfied: prometheus-client in /usr/local/lib/python3.10/dist-packages (from jupyter-server<3,>=1.18->voila) (0.21.0)\n",
            "Requirement already satisfied: Send2Trash in /usr/local/lib/python3.10/dist-packages (from jupyter-server<3,>=1.18->voila) (1.8.3)\n",
            "Requirement already satisfied: terminado>=0.8.3 in /usr/local/lib/python3.10/dist-packages (from jupyter-server<3,>=1.18->voila) (0.18.1)\n",
            "Requirement already satisfied: websocket-client in /usr/local/lib/python3.10/dist-packages (from jupyter-server<3,>=1.18->voila) (1.8.0)\n",
            "Requirement already satisfied: babel>=2.10 in /usr/local/lib/python3.10/dist-packages (from jupyterlab-server<3,>=2.3.0->voila) (2.16.0)\n",
            "Collecting json5>=0.9.0 (from jupyterlab-server<3,>=2.3.0->voila)\n",
            "  Downloading json5-0.9.25-py3-none-any.whl.metadata (30 kB)\n",
            "Requirement already satisfied: jsonschema>=4.18.0 in /usr/local/lib/python3.10/dist-packages (from jupyterlab-server<3,>=2.3.0->voila) (4.23.0)\n",
            "Requirement already satisfied: requests>=2.31 in /usr/local/lib/python3.10/dist-packages (from jupyterlab-server<3,>=2.3.0->voila) (2.32.3)\n",
            "Requirement already satisfied: lxml in /usr/local/lib/python3.10/dist-packages (from nbconvert<8,>=6.4.5->voila) (4.9.4)\n",
            "Requirement already satisfied: beautifulsoup4 in /usr/local/lib/python3.10/dist-packages (from nbconvert<8,>=6.4.5->voila) (4.12.3)\n",
            "Requirement already satisfied: bleach in /usr/local/lib/python3.10/dist-packages (from nbconvert<8,>=6.4.5->voila) (6.1.0)\n",
            "Requirement already satisfied: defusedxml in /usr/local/lib/python3.10/dist-packages (from nbconvert<8,>=6.4.5->voila) (0.7.1)\n",
            "Requirement already satisfied: entrypoints>=0.2.2 in /usr/local/lib/python3.10/dist-packages (from nbconvert<8,>=6.4.5->voila) (0.4)\n",
            "Requirement already satisfied: jupyterlab-pygments in /usr/local/lib/python3.10/dist-packages (from nbconvert<8,>=6.4.5->voila) (0.3.0)\n",
            "Requirement already satisfied: MarkupSafe>=2.0 in /usr/local/lib/python3.10/dist-packages (from nbconvert<8,>=6.4.5->voila) (3.0.2)\n",
            "Requirement already satisfied: mistune<2,>=0.8.1 in /usr/local/lib/python3.10/dist-packages (from nbconvert<8,>=6.4.5->voila) (0.8.4)\n",
            "Requirement already satisfied: pandocfilters>=1.4.1 in /usr/local/lib/python3.10/dist-packages (from nbconvert<8,>=6.4.5->voila) (1.5.1)\n",
            "Requirement already satisfied: pygments>=2.4.1 in /usr/local/lib/python3.10/dist-packages (from nbconvert<8,>=6.4.5->voila) (2.18.0)\n",
            "Requirement already satisfied: tinycss2 in /usr/local/lib/python3.10/dist-packages (from nbconvert<8,>=6.4.5->voila) (1.4.0)\n",
            "Requirement already satisfied: idna>=2.8 in /usr/local/lib/python3.10/dist-packages (from anyio<4,>=3.1.0->jupyter-server<3,>=1.18->voila) (3.10)\n",
            "Requirement already satisfied: sniffio>=1.1 in /usr/local/lib/python3.10/dist-packages (from anyio<4,>=3.1.0->jupyter-server<3,>=1.18->voila) (1.3.1)\n",
            "Requirement already satisfied: exceptiongroup in /usr/local/lib/python3.10/dist-packages (from anyio<4,>=3.1.0->jupyter-server<3,>=1.18->voila) (1.2.2)\n",
            "Requirement already satisfied: attrs>=22.2.0 in /usr/local/lib/python3.10/dist-packages (from jsonschema>=4.18.0->jupyterlab-server<3,>=2.3.0->voila) (24.2.0)\n",
            "Requirement already satisfied: jsonschema-specifications>=2023.03.6 in /usr/local/lib/python3.10/dist-packages (from jsonschema>=4.18.0->jupyterlab-server<3,>=2.3.0->voila) (2024.10.1)\n",
            "Requirement already satisfied: referencing>=0.28.4 in /usr/local/lib/python3.10/dist-packages (from jsonschema>=4.18.0->jupyterlab-server<3,>=2.3.0->voila) (0.35.1)\n",
            "Requirement already satisfied: rpds-py>=0.7.1 in /usr/local/lib/python3.10/dist-packages (from jsonschema>=4.18.0->jupyterlab-server<3,>=2.3.0->voila) (0.20.0)\n",
            "Requirement already satisfied: fastjsonschema>=2.15 in /usr/local/lib/python3.10/dist-packages (from nbformat>=5.2.0->jupyter-server<3,>=1.18->voila) (2.20.0)\n",
            "Requirement already satisfied: six>=1.5 in /usr/local/lib/python3.10/dist-packages (from python-dateutil>=2.8.2->jupyter-client<9,>=7.4.4->voila) (1.16.0)\n",
            "Requirement already satisfied: charset-normalizer<4,>=2 in /usr/local/lib/python3.10/dist-packages (from requests>=2.31->jupyterlab-server<3,>=2.3.0->voila) (3.4.0)\n",
            "Requirement already satisfied: urllib3<3,>=1.21.1 in /usr/local/lib/python3.10/dist-packages (from requests>=2.31->jupyterlab-server<3,>=2.3.0->voila) (2.2.3)\n",
            "Requirement already satisfied: certifi>=2017.4.17 in /usr/local/lib/python3.10/dist-packages (from requests>=2.31->jupyterlab-server<3,>=2.3.0->voila) (2024.8.30)\n",
            "Requirement already satisfied: ptyprocess in /usr/local/lib/python3.10/dist-packages (from terminado>=0.8.3->jupyter-server<3,>=1.18->voila) (0.7.0)\n",
            "Requirement already satisfied: argon2-cffi-bindings in /usr/local/lib/python3.10/dist-packages (from argon2-cffi->jupyter-server<3,>=1.18->voila) (21.2.0)\n",
            "Requirement already satisfied: soupsieve>1.2 in /usr/local/lib/python3.10/dist-packages (from beautifulsoup4->nbconvert<8,>=6.4.5->voila) (2.6)\n",
            "Requirement already satisfied: webencodings in /usr/local/lib/python3.10/dist-packages (from bleach->nbconvert<8,>=6.4.5->voila) (0.5.1)\n",
            "Requirement already satisfied: cffi>=1.0.1 in /usr/local/lib/python3.10/dist-packages (from argon2-cffi-bindings->argon2-cffi->jupyter-server<3,>=1.18->voila) (1.17.1)\n",
            "Requirement already satisfied: pycparser in /usr/local/lib/python3.10/dist-packages (from cffi>=1.0.1->argon2-cffi-bindings->argon2-cffi->jupyter-server<3,>=1.18->voila) (2.22)\n",
            "Downloading voila-0.5.8-py3-none-any.whl (4.5 MB)\n",
            "\u001b[2K   \u001b[90m━━━━━━━━━━━━━━━━━━━━━━━━━━━━━━━━━━━━━━━━\u001b[0m \u001b[32m4.5/4.5 MB\u001b[0m \u001b[31m30.4 MB/s\u001b[0m eta \u001b[36m0:00:00\u001b[0m\n",
            "\u001b[?25hDownloading jupyter_client-8.6.3-py3-none-any.whl (106 kB)\n",
            "\u001b[2K   \u001b[90m━━━━━━━━━━━━━━━━━━━━━━━━━━━━━━━━━━━━━━━━\u001b[0m \u001b[32m106.1/106.1 kB\u001b[0m \u001b[31m5.1 MB/s\u001b[0m eta \u001b[36m0:00:00\u001b[0m\n",
            "\u001b[?25hDownloading jupyterlab_server-2.27.3-py3-none-any.whl (59 kB)\n",
            "\u001b[2K   \u001b[90m━━━━━━━━━━━━━━━━━━━━━━━━━━━━━━━━━━━━━━━━\u001b[0m \u001b[32m59.7/59.7 kB\u001b[0m \u001b[31m3.1 MB/s\u001b[0m eta \u001b[36m0:00:00\u001b[0m\n",
            "\u001b[?25hDownloading websockets-13.1-cp310-cp310-manylinux_2_5_x86_64.manylinux1_x86_64.manylinux_2_17_x86_64.manylinux2014_x86_64.whl (164 kB)\n",
            "\u001b[2K   \u001b[90m━━━━━━━━━━━━━━━━━━━━━━━━━━━━━━━━━━━━━━━━\u001b[0m \u001b[32m164.1/164.1 kB\u001b[0m \u001b[31m8.8 MB/s\u001b[0m eta \u001b[36m0:00:00\u001b[0m\n",
            "\u001b[?25hDownloading json5-0.9.25-py3-none-any.whl (30 kB)\n",
            "Installing collected packages: websockets, json5, jupyter-client, jupyterlab-server, voila\n",
            "  Attempting uninstall: jupyter-client\n",
            "    Found existing installation: jupyter-client 6.1.12\n",
            "    Uninstalling jupyter-client-6.1.12:\n",
            "      Successfully uninstalled jupyter-client-6.1.12\n",
            "\u001b[31mERROR: pip's dependency resolver does not currently take into account all the packages that are installed. This behaviour is the source of the following dependency conflicts.\n",
            "notebook 6.5.5 requires jupyter-client<8,>=5.3.4, but you have jupyter-client 8.6.3 which is incompatible.\u001b[0m\u001b[31m\n",
            "\u001b[0mSuccessfully installed json5-0.9.25 jupyter-client-8.6.3 jupyterlab-server-2.27.3 voila-0.5.8 websockets-13.1\n",
            "Enabling: voila\n",
            "- Writing config: /usr/etc/jupyter\n",
            "    - Validating...\n",
            "      voila 0.5.8 \u001b[32mOK\u001b[0m\n"
          ]
        }
      ],
      "source": [
        "#hide\n",
        "!pip install voila\n",
        "!jupyter serverextension enable --sys-prefix voila"
      ]
    },
    {
      "cell_type": "code",
      "source": [
        "path = Path('/content/gdrive/MyDrive/model')"
      ],
      "metadata": {
        "id": "z19CeJ4nqyum"
      },
      "execution_count": null,
      "outputs": []
    },
    {
      "cell_type": "code",
      "source": [
        "learn_inf = load_learner(path/'export.pkl')"
      ],
      "metadata": {
        "id": "D5f1TWrMqyyM"
      },
      "execution_count": null,
      "outputs": []
    },
    {
      "cell_type": "code",
      "source": [
        "#hide_output\n",
        "btn_upload = widgets.FileUpload()"
      ],
      "metadata": {
        "colab": {
          "base_uri": "https://localhost:8080/",
          "height": 69,
          "referenced_widgets": [
            "3c0b2476bf5d4dea9dcb9ec1d7907bbf",
            "914037334ef544958f78754c5bd3bdc7",
            "1aa3b76fa7fe4375b45ed2805a8831b1"
          ]
        },
        "id": "CJRJgyHYot67",
        "outputId": "6ff5f9b9-d9da-4dac-9ce9-cab7ff2fd5cf"
      },
      "execution_count": 8,
      "outputs": [
        {
          "output_type": "display_data",
          "data": {
            "text/plain": [
              "FileUpload(value={}, description='Upload')"
            ],
            "application/vnd.jupyter.widget-view+json": {
              "version_major": 2,
              "version_minor": 0,
              "model_id": "3c0b2476bf5d4dea9dcb9ec1d7907bbf"
            }
          },
          "metadata": {}
        }
      ]
    },
    {
      "cell_type": "code",
      "source": [
        "#hide_output\n",
        "out_pl = widgets.Output()\n",
        "out_pl.clear_output()"
      ],
      "metadata": {
        "id": "vOm-tk0uq8zi"
      },
      "execution_count": 25,
      "outputs": []
    },
    {
      "cell_type": "code",
      "source": [
        "#hide_output\n",
        "btn_run = widgets.Button(description='Classify')"
      ],
      "metadata": {
        "colab": {
          "base_uri": "https://localhost:8080/",
          "height": 69,
          "referenced_widgets": [
            "c468fbb7586f45c2a96a594bac6e199d",
            "bef8ed058d744e02836a613c53c79c0f",
            "11f805e1f50c483e8bda9672f58e6c0b"
          ]
        },
        "id": "fCxjcXriou0-",
        "outputId": "44682a78-15bb-40c2-e2d8-8759971c9d6c"
      },
      "execution_count": 26,
      "outputs": [
        {
          "output_type": "display_data",
          "data": {
            "text/plain": [
              "Button(description='Classify', style=ButtonStyle())"
            ],
            "application/vnd.jupyter.widget-view+json": {
              "version_major": 2,
              "version_minor": 0,
              "model_id": "c468fbb7586f45c2a96a594bac6e199d"
            }
          },
          "metadata": {}
        }
      ]
    },
    {
      "cell_type": "code",
      "source": [
        "def on_click_classify(change):\n",
        "    img = PILImage.create(btn_upload.data[-1])\n",
        "    out_pl.clear_output()\n",
        "    with out_pl: display(img.to_thumb(128,128))\n",
        "    pred,pred_idx,probs = learn_inf.predict(img)\n",
        "    lbl_pred.value = f'Prediction: {pred}; Probability: {probs[pred_idx]:.04f}'\n",
        "\n",
        "btn_run.on_click(on_click_classify)"
      ],
      "metadata": {
        "id": "1MIWfoNzou3l"
      },
      "execution_count": 27,
      "outputs": []
    },
    {
      "cell_type": "code",
      "source": [
        "#hide\n",
        "#Putting back btn_upload to a widget for next cell\n",
        "btn_upload = widgets.FileUpload()"
      ],
      "metadata": {
        "id": "Ldusqt_Wou6C"
      },
      "execution_count": 28,
      "outputs": []
    },
    {
      "cell_type": "code",
      "source": [
        "#hide_output\n",
        "VBox([widgets.Label('Select your bear!'),\n",
        "      btn_upload, btn_run, out_pl, lbl_pred])"
      ],
      "metadata": {
        "colab": {
          "base_uri": "https://localhost:8080/",
          "height": 293,
          "referenced_widgets": [
            "dfc45cf3d13b4f8184e05bee03897124",
            "b3a5d08f7f6e4886aae1b722809addda",
            "e2b1748d357343c1a9e40f1268d028e9",
            "c468fbb7586f45c2a96a594bac6e199d",
            "2a955778dc9d423abcc5d4e533f5fceb",
            "397494fc6dd141eab08a3d60d822cf62",
            "d77c7874d079432e86dc3c5daf1f0ba2",
            "4474bb9c7df745078c9cbec0e527275b",
            "e2916f59b85a4ef7945180a38f802929",
            "0cef69c25e244408aee5d9637fa18fe0",
            "d090813990f3493ab76dc5bd0c024d90",
            "bef8ed058d744e02836a613c53c79c0f",
            "11f805e1f50c483e8bda9672f58e6c0b",
            "f0d22fea525d42b486f2b480cfe459c4",
            "78b96488f52447ed9084caedaae97313",
            "e0d4e172b7c542279a46013c118206ff"
          ]
        },
        "id": "xV89bcLNou8b",
        "outputId": "fbe6b40a-6d77-46f8-ee88-831d967975d8"
      },
      "execution_count": 29,
      "outputs": [
        {
          "output_type": "display_data",
          "data": {
            "text/plain": [
              "VBox(children=(Label(value='Select your bear!'), FileUpload(value={}, description='Upload'), Button(descriptio…"
            ],
            "application/vnd.jupyter.widget-view+json": {
              "version_major": 2,
              "version_minor": 0,
              "model_id": "dfc45cf3d13b4f8184e05bee03897124"
            }
          },
          "metadata": {}
        },
        {
          "output_type": "display_data",
          "data": {
            "text/plain": [
              "<IPython.core.display.HTML object>"
            ],
            "text/html": [
              "\n",
              "<style>\n",
              "    /* Turns off some styling */\n",
              "    progress {\n",
              "        /* gets rid of default border in Firefox and Opera. */\n",
              "        border: none;\n",
              "        /* Needs to be in here for Safari polyfill so background images work as expected. */\n",
              "        background-size: auto;\n",
              "    }\n",
              "    progress:not([value]), progress:not([value])::-webkit-progress-bar {\n",
              "        background: repeating-linear-gradient(45deg, #7e7e7e, #7e7e7e 10px, #5c5c5c 10px, #5c5c5c 20px);\n",
              "    }\n",
              "    .progress-bar-interrupted, .progress-bar-interrupted::-webkit-progress-bar {\n",
              "        background: #F44336;\n",
              "    }\n",
              "</style>\n"
            ]
          },
          "metadata": {}
        },
        {
          "output_type": "display_data",
          "data": {
            "text/plain": [
              "<IPython.core.display.HTML object>"
            ],
            "text/html": []
          },
          "metadata": {}
        }
      ]
    }
  ]
}